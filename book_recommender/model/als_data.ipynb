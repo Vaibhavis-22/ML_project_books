{
 "cells": [
  {
   "cell_type": "code",
   "execution_count": 18,
   "id": "9a9e0b17",
   "metadata": {},
   "outputs": [],
   "source": [
    "import pyspark\n",
    "from pyspark.sql import SparkSession"
   ]
  },
  {
   "cell_type": "code",
   "execution_count": 19,
   "id": "d3c3005e",
   "metadata": {},
   "outputs": [],
   "source": [
    "spark = SparkSession.builder \\\n",
    "    .appName(\"AlsModel\") \\\n",
    "    .config(\"spark.driver.memory\", \"4g\") \\\n",
    "    .config(\"spark.executor.memory\", \"4g\") \\\n",
    "    .getOrCreate()\n"
   ]
  },
  {
   "cell_type": "code",
   "execution_count": 20,
   "id": "f59de860",
   "metadata": {},
   "outputs": [],
   "source": [
    "df = spark.read.parquet(\"/home/vaibhavi/spark-ml-venv/ml_project/preprocessing/output/als/*\")"
   ]
  },
  {
   "cell_type": "code",
   "execution_count": 21,
   "id": "e53df2a5",
   "metadata": {},
   "outputs": [
    {
     "data": {
      "text/plain": [
       "Row(User_id='A01254073JW8SSTKH6AIB', Id='0451521196', rating=5.0)"
      ]
     },
     "execution_count": 21,
     "metadata": {},
     "output_type": "execute_result"
    }
   ],
   "source": [
    "df.head()"
   ]
  },
  {
   "cell_type": "code",
   "execution_count": 22,
   "id": "579c0657",
   "metadata": {},
   "outputs": [],
   "source": [
    "top_users = df.groupBy(\"User_id\").count().orderBy(\"count\", ascending = False ).limit(100)"
   ]
  },
  {
   "cell_type": "code",
   "execution_count": 23,
   "id": "8382a01a",
   "metadata": {},
   "outputs": [],
   "source": [
    "top_users = top_users.select(\"User_id\")"
   ]
  },
  {
   "cell_type": "code",
   "execution_count": 24,
   "id": "49f78464",
   "metadata": {},
   "outputs": [],
   "source": [
    "top_users_ratings = top_users.join(df, on=\"User_id\", how = \"inner\")"
   ]
  },
  {
   "cell_type": "code",
   "execution_count": 25,
   "id": "e3b83dc0",
   "metadata": {},
   "outputs": [
    {
     "name": "stdout",
     "output_type": "stream",
     "text": [
      "root\n",
      " |-- User_id: string (nullable = true)\n",
      " |-- Id: string (nullable = true)\n",
      " |-- rating: double (nullable = true)\n",
      "\n"
     ]
    }
   ],
   "source": [
    "top_users_ratings.printSchema()"
   ]
  },
  {
   "cell_type": "code",
   "execution_count": 26,
   "id": "8df0d58c",
   "metadata": {},
   "outputs": [
    {
     "data": {
      "text/plain": [
       "65338"
      ]
     },
     "execution_count": 26,
     "metadata": {},
     "output_type": "execute_result"
    }
   ],
   "source": [
    "top_users_ratings.count()"
   ]
  },
  {
   "cell_type": "code",
   "execution_count": 27,
   "id": "34ed35e3",
   "metadata": {},
   "outputs": [
    {
     "name": "stdout",
     "output_type": "stream",
     "text": [
      "+-------+---+------+\n",
      "|User_id| Id|rating|\n",
      "+-------+---+------+\n",
      "|      0|  0|     0|\n",
      "+-------+---+------+\n",
      "\n"
     ]
    }
   ],
   "source": [
    "from pyspark.sql.functions import col, sum as Fsum\n",
    "\n",
    "\n",
    "top_users_ratings.select([Fsum(col(c).isNull().cast(\"int\")).alias(c) for c in top_users_ratings.columns]).show()\n"
   ]
  },
  {
   "cell_type": "code",
   "execution_count": 28,
   "id": "af6eed93",
   "metadata": {},
   "outputs": [
    {
     "name": "stdout",
     "output_type": "stream",
     "text": [
      "+-------+---+------+\n",
      "|User_id| Id|rating|\n",
      "+-------+---+------+\n",
      "|      0|  0|     0|\n",
      "+-------+---+------+\n",
      "\n"
     ]
    }
   ],
   "source": [
    "from pyspark.sql.functions import col, sum\n",
    "\n",
    "# For each column, count nulls\n",
    "null_counts = top_users_ratings.select([sum(col(c).isNull().cast(\"int\")).alias(c) for c in top_users_ratings.columns])\n",
    "\n",
    "null_counts.show()\n"
   ]
  },
  {
   "cell_type": "code",
   "execution_count": 29,
   "id": "0805b988",
   "metadata": {},
   "outputs": [
    {
     "name": "stdout",
     "output_type": "stream",
     "text": [
      "+--------------+----------+------+\n",
      "|       User_id|        Id|rating|\n",
      "+--------------+----------+------+\n",
      "|A12A08OL0TZY0W|1419191985|   3.0|\n",
      "|A12A08OL0TZY0W|1557424365|   4.0|\n",
      "|A12A08OL0TZY0W|B00086F8U8|   5.0|\n",
      "|A12A08OL0TZY0W|B000KDJ5YY|   5.0|\n",
      "|A12A08OL0TZY0W|B000L9O7D6|   5.0|\n",
      "|A12A08OL0TZY0W|B000MOO1J0|   5.0|\n",
      "|A13G1TKIKHGV3F|0394770722|   5.0|\n",
      "|A13G1TKIKHGV3F|0698113586|   5.0|\n",
      "|A13G1TKIKHGV3F|B0006AVIJ6|   5.0|\n",
      "|A14OJS0VWMOSWO|0275981428|   5.0|\n",
      "|A14OJS0VWMOSWO|0345283937|   5.0|\n",
      "|A14OJS0VWMOSWO|0385245467|   5.0|\n",
      "|A14OJS0VWMOSWO|0393060985|   5.0|\n",
      "|A14OJS0VWMOSWO|0553344455|   5.0|\n",
      "|A14OJS0VWMOSWO|0711963150|   5.0|\n",
      "|A14OJS0VWMOSWO|0762726024|   5.0|\n",
      "|A14OJS0VWMOSWO|0792266862|   5.0|\n",
      "|A14OJS0VWMOSWO|0826604161|   5.0|\n",
      "|A14OJS0VWMOSWO|0864922302|   5.0|\n",
      "|A14OJS0VWMOSWO|0881505587|   5.0|\n",
      "+--------------+----------+------+\n",
      "only showing top 20 rows\n",
      "\n"
     ]
    }
   ],
   "source": [
    "top_users_ratings.show()"
   ]
  },
  {
   "cell_type": "code",
   "execution_count": 30,
   "id": "62c0d33f",
   "metadata": {},
   "outputs": [],
   "source": [
    "from pyspark.ml.feature import StringIndexer\n",
    "\n",
    "# StringIndexer for user_id\n",
    "\n",
    "\n",
    "user_indexer = StringIndexer(inputCol=\"User_id\", outputCol=\"user\")\n",
    "user_indexer_fitted = user_indexer.fit(top_users_ratings)\n",
    "user_indexer_fitted.write().overwrite().save(\"models/user_indexer_fitted\")\n",
    "\n",
    "\n",
    "book_indexer = StringIndexer(inputCol=\"Id\", outputCol=\"book_id\")\n",
    "book_indexer_fitted = book_indexer.fit(top_users_ratings)\n",
    "book_indexer_fitted.write().overwrite().save(\"models/book_indexer_fitted\")\n",
    "\n",
    "\n",
    "\n",
    "top_users_ratings = user_indexer_fitted.transform(top_users_ratings)\n",
    "top_users_ratings = book_indexer_fitted.transform(top_users_ratings)\n"
   ]
  },
  {
   "cell_type": "code",
   "execution_count": 31,
   "id": "0c7dac06",
   "metadata": {},
   "outputs": [
    {
     "name": "stdout",
     "output_type": "stream",
     "text": [
      "root\n",
      " |-- User_id: string (nullable = true)\n",
      " |-- Id: string (nullable = true)\n",
      " |-- rating: double (nullable = true)\n",
      " |-- user: double (nullable = false)\n",
      " |-- book_id: double (nullable = false)\n",
      "\n"
     ]
    }
   ],
   "source": [
    "top_users_ratings.printSchema()"
   ]
  },
  {
   "cell_type": "code",
   "execution_count": 32,
   "id": "d49f2a8d",
   "metadata": {},
   "outputs": [
    {
     "name": "stdout",
     "output_type": "stream",
     "text": [
      "+--------------+----------+------+----+-------+\n",
      "|       User_id|        Id|rating|user|book_id|\n",
      "+--------------+----------+------+----+-------+\n",
      "|A12A08OL0TZY0W|1419191985|   3.0|41.0| 1932.0|\n",
      "|A12A08OL0TZY0W|1557424365|   4.0|41.0| 7062.0|\n",
      "|A12A08OL0TZY0W|B00086F8U8|   5.0|41.0| 8408.0|\n",
      "|A12A08OL0TZY0W|B000KDJ5YY|   5.0|41.0| 4837.0|\n",
      "|A12A08OL0TZY0W|B000L9O7D6|   5.0|41.0|  263.0|\n",
      "|A12A08OL0TZY0W|B000MOO1J0|   5.0|41.0|  265.0|\n",
      "|A13G1TKIKHGV3F|0394770722|   5.0|68.0| 1823.0|\n",
      "|A13G1TKIKHGV3F|0698113586|   5.0|68.0|15464.0|\n",
      "|A13G1TKIKHGV3F|B0006AVIJ6|   5.0|68.0| 7834.0|\n",
      "|A14OJS0VWMOSWO|0275981428|   5.0| 0.0|11357.0|\n",
      "|A14OJS0VWMOSWO|0345283937|   5.0| 0.0|11963.0|\n",
      "|A14OJS0VWMOSWO|0385245467|   5.0| 0.0|12497.0|\n",
      "|A14OJS0VWMOSWO|0393060985|   5.0| 0.0| 5670.0|\n",
      "|A14OJS0VWMOSWO|0553344455|   5.0| 0.0|14228.0|\n",
      "|A14OJS0VWMOSWO|0711963150|   5.0| 0.0|15531.0|\n",
      "|A14OJS0VWMOSWO|0762726024|   5.0| 0.0|16420.0|\n",
      "|A14OJS0VWMOSWO|0792266862|   5.0| 0.0| 6606.0|\n",
      "|A14OJS0VWMOSWO|0826604161|   5.0| 0.0|18457.0|\n",
      "|A14OJS0VWMOSWO|0864922302|   5.0| 0.0|18746.0|\n",
      "|A14OJS0VWMOSWO|0881505587|   5.0| 0.0|19179.0|\n",
      "+--------------+----------+------+----+-------+\n",
      "only showing top 20 rows\n",
      "\n"
     ]
    },
    {
     "name": "stderr",
     "output_type": "stream",
     "text": [
      "25/07/22 23:44:05 WARN DAGScheduler: Broadcasting large task binary with size 1201.4 KiB\n"
     ]
    }
   ],
   "source": [
    "top_users_ratings.show()"
   ]
  },
  {
   "cell_type": "code",
   "execution_count": 33,
   "id": "d1aa996b",
   "metadata": {},
   "outputs": [
    {
     "name": "stderr",
     "output_type": "stream",
     "text": [
      "25/07/22 23:44:13 WARN DAGScheduler: Broadcasting large task binary with size 1847.3 KiB\n"
     ]
    }
   ],
   "source": [
    "top_users_ratings.write.mode(\"overwrite\").parquet(\"data/top_users_ratings.parquet\")"
   ]
  },
  {
   "cell_type": "code",
   "execution_count": null,
   "id": "1a2aa299",
   "metadata": {},
   "outputs": [],
   "source": [
    "\n",
    "def get_als_recommendations(user_id, spark):\n",
    "\n",
    "    user_indexer = StringIndexerModel.load(\"models/user_indexer_fitted\")\n",
    "    book_indexer = StringIndexerModel.load(\"models/book_indexer_fitted\")\n",
    "\n",
    "    als_model = ALSModel.load(\"models/als_model\")\n",
    "    \n",
    "    # Make a tiny DataFrame to transform user_id\n",
    "    user_df = spark.createDataFrame([(user_id,)], [\"User_id\"])\n",
    "\n",
    "    try:\n",
    "        transformed_user = user_indexer.transform(user_df).select(\"user\")\n",
    "        user_idx = transformed_user.collect()[0][\"user\"]\n",
    "\n",
    "        recs = als_model.recommendForUserSubset(\n",
    "            transformed_user.selectExpr(\"user_idx as user\"), numItems=10\n",
    "        )\n",
    "        return recs\n",
    "    except Exception:\n",
    "        return None  # Not in training, let hybrid fallback to content\n"
   ]
  }
 ],
 "metadata": {
  "kernelspec": {
   "display_name": "ml-project-env",
   "language": "python",
   "name": "python3"
  },
  "language_info": {
   "codemirror_mode": {
    "name": "ipython",
    "version": 3
   },
   "file_extension": ".py",
   "mimetype": "text/x-python",
   "name": "python",
   "nbconvert_exporter": "python",
   "pygments_lexer": "ipython3",
   "version": "3.10.12"
  }
 },
 "nbformat": 4,
 "nbformat_minor": 5
}
