{
 "cells": [
  {
   "cell_type": "code",
   "execution_count": 1,
   "id": "bb17065c",
   "metadata": {},
   "outputs": [],
   "source": [
    "import pyspark\n",
    "from pyspark.sql import SparkSession\n",
    "\n"
   ]
  },
  {
   "cell_type": "code",
   "execution_count": null,
   "id": "f8af8b6c",
   "metadata": {},
   "outputs": [
    {
     "name": "stdout",
     "output_type": "stream",
     "text": [
      "root\n",
      " |-- PAR1\u0015\u0000\u0015��j\u0015��E\u0015���\\f\u001c\u0015��\u0002\u0015\u0000\u0015\u0006\u0015\\b\u0000\u0000҇5p\u0004\u0000\u0000\u0000��\u0002\u0001\u0010\u0000\u0000\u0000\"\"\"Come to Me\"\"\"8\\t\u0014�Good Writing\"\" in Cross-Cultural Context (Suny Seriesr\u0000\u0005PlI AM\"\" Adorations and Affirm\\t\u0011\\b; \"\u0011&XDecrees (Saint Germain \\tQ8 - Vol 5) (The 6#\u0000\u0004se\u0001t\\b)\"?\\t��Marriage on the Rock\"\" God's Design for Your Dream \u00113\u0004\"3\\tC: string (nullable = true)\n",
      " |-- Ra Force Ris\u0005�|: Brother G (Shades of Memnon)\"\u0019: string (nullable = true)\n",
      "\n"
     ]
    }
   ],
   "source": [
    "spark = SparkSession.builder.appName(\"Trial\").getOrCreate()\n",
    "\n"
   ]
  },
  {
   "cell_type": "code",
   "execution_count": 18,
   "id": "de109da5",
   "metadata": {},
   "outputs": [],
   "source": [
    "books = spark.read.parquet(\"/home/vaibhavi/spark-ml-venv/ml_project/book_recommender/data/books_metadata\")  # Or wherever your img & meta is\n",
    "\n"
   ]
  },
  {
   "cell_type": "code",
   "execution_count": 13,
   "id": "9ed3f03a",
   "metadata": {},
   "outputs": [
    {
     "name": "stdout",
     "output_type": "stream",
     "text": [
      "root\n",
      " |-- Title: string (nullable = true)\n",
      " |-- Id: string (nullable = true)\n",
      " |-- image: string (nullable = true)\n",
      " |-- categories: string (nullable = true)\n",
      "\n"
     ]
    }
   ],
   "source": [
    "books.printSchema()"
   ]
  },
  {
   "cell_type": "code",
   "execution_count": 14,
   "id": "2096fe44",
   "metadata": {},
   "outputs": [],
   "source": [
    "del books"
   ]
  },
  {
   "cell_type": "code",
   "execution_count": 16,
   "id": "9875c99b",
   "metadata": {},
   "outputs": [],
   "source": [
    "features = spark.read.parquet(\"/home/vaibhavi/spark-ml-venv/ml_project/book_recommender/model/data/vectorized_books.parquet\")"
   ]
  },
  {
   "cell_type": "code",
   "execution_count": 17,
   "id": "9de2c17f",
   "metadata": {},
   "outputs": [
    {
     "name": "stdout",
     "output_type": "stream",
     "text": [
      "root\n",
      " |-- Title: string (nullable = true)\n",
      " |-- final_features: vector (nullable = true)\n",
      "\n"
     ]
    }
   ],
   "source": [
    "features.printSchema()"
   ]
  },
  {
   "cell_type": "code",
   "execution_count": 21,
   "id": "6241ee26",
   "metadata": {},
   "outputs": [
    {
     "data": {
      "text/plain": [
       "[Row(Title='\"\"\"Come to Me\"\"\"', Id='159467180X', image='http://books.google.com/books/content?id=M7lLQRgVk8sC&printsec=frontcover&img=1&zoom=1&edge=curl&source=gbs_api', categories=\"['Fiction']\"),\n",
       " Row(Title='\"\"\"Good Writing\"\" in Cross-Cultural Context (Suny Series', Id='0791426793', image=' and Learning)\"', categories='http://books.google.com/books/content?id=TFVXS003dm8C&printsec=frontcover&img=1&zoom=1&edge=curl&source=gbs_api'),\n",
       " Row(Title='\"\"\"I AM\"\" Adorations and Affirmations; \"\"I AM\"\" Decrees (Saint Germain Series - Vol 5) (The Saint Germain series)\"', Id='1878891243', image='http://books.google.com/books/content?id=SHqhbwAACAAJ&printsec=frontcover&img=1&zoom=1&source=gbs_api', categories=\"['I AM Religious Activity']\"),\n",
       " Row(Title='\"\"\"Marriage on the Rock\"\" God\\'s Design for Your Dream Marriage\"', Id='B000NFAEPS', image='http://books.google.com/books/content?id=uS0LvwEACAAJ&printsec=frontcover&img=1&zoom=1&source=gbs_api', categories=None),\n",
       " Row(Title='\"\"\"Ra Force Rising\"\": Brother G (Shades of Memnon)\"', Id='0966237420', image='http://books.google.com/books/content?id=-SFJfEZwu_kC&printsec=frontcover&img=1&zoom=1&edge=curl&source=gbs_api', categories=\"['Fiction']\"),\n",
       " Row(Title='\"\"\"Rise and be healed!\"\"\"', Id='0962956902', image='http://books.google.com/books/content?id=kpWr89VYhUYC&printsec=frontcover&img=1&zoom=1&edge=curl&source=gbs_api', categories=\"['Poetry']\"),\n",
       " Row(Title='\"\"\"The MXT Edge\"\"\"', Id='B000P7JRY8', image='http://books.google.com/books/content?id=DrTRAAAAMAAJ&printsec=frontcover&img=1&zoom=1&source=gbs_api', categories=\"['Dredging']\"),\n",
       " Row(Title='\"\"\"The Super Short', Id='0825424127', image=\"['Chrysti Burroughs']\", categories='http://books.google.com/books?id=UNWkOKUq638C&dq=%22The+Super+Short,+Amazing+Story+of+Daniel+in+the+Lions%27+Den%22&hl=&source=gbs_api'),\n",
       " Row(Title='\"\"\"The Super Short', Id='0825424127', image=\"['Malcolm Gladwell']\", categories='https://play.google.com/store/books/details?id=oICRAwAAQBAJ&source=gbs_api'),\n",
       " Row(Title='\"\"\"Thy servant a dog\"\"\"', Id='B0008AK7R8', image='http://books.google.com/books/content?id=bf6SuRa5K7IC&printsec=frontcover&img=1&zoom=1&edge=curl&source=gbs_api', categories=\"['Juvenile Fiction']\"),\n",
       " Row(Title='\"\"\"Traditional Chinese Herbal Medicine - Formulas\"\" (Hebrew edition)\"', Id='9659016409', image='http://books.google.com/books/content?id=KxoVAXt09F8C&printsec=frontcover&img=1&zoom=1&edge=curl&source=gbs_api', categories=\"['Medical']\"),\n",
       " Row(Title='\"\"\"carte de serie internationale papier ; bermuda\"\"\"', Id='392885528X', image=None, categories=None),\n",
       " Row(Title='\"10-7 double bonus video poker: A complete \"\"how to beat the casino\"\" discussion\"', Id='B0006QN5BY', image='http://books.google.com/books/content?id=S7HcngEACAAJ&printsec=frontcover&img=1&zoom=1&source=gbs_api', categories=\"['Religion']\"),\n",
       " Row(Title='\"1st Infantry Division: The \"\"Big Red One\"\" (Spearhead)\"', Id='0711029237', image='http://books.google.com/books/content?id=XisbPQAACAAJ&printsec=frontcover&img=1&zoom=1&source=gbs_api', categories=\"['History']\"),\n",
       " Row(Title='\"A Reading Guide to \"\"Where the Red Fern Grows\"\"\"', Id='0439463750', image='http://books.google.com/books/content?id=BrgeEEykkP8C&printsec=frontcover&img=1&zoom=1&edge=curl&source=gbs_api', categories=\"['Juvenile Fiction']\"),\n",
       " Row(Title='\"After Capone: The Life and World of Chicago Mob Boss Frank The Enforcer\"\" Nitti\"\"\"', Id='1581824548', image=' his near-fatal shooting by city detectives', categories='http://books.google.com/books/content?id=m5cbT_sNq9AC&printsec=frontcover&img=1&zoom=1&edge=curl&source=gbs_api'),\n",
       " Row(Title='\"Batfish, the champion \"\"submarine-killer\"\" submarine of World War II\"', Id='B0006E1I1A', image='http://books.google.com/books/content?id=PtsDAAAAMAAJ&printsec=frontcover&img=1&zoom=1&source=gbs_api', categories=\"['Sailors']\"),\n",
       " Row(Title='\"Bearmaking 101: An Ins\"\"Bear\"\"Ational Course\"', Id='0806913738', image='http://books.google.com/books/content?id=XzAeEAAAQBAJ&printsec=frontcover&img=1&zoom=1&edge=curl&source=gbs_api', categories=\"['Political Science']\"),\n",
       " Row(Title='\"Blue Guide to Indiana (explanation: This book is not actually part of the \"\"blue guides\"\" series.)\"', Id='1573660957', image='http://books.google.com/books/content?id=g9SoAwAAQBAJ&printsec=frontcover&img=1&zoom=1&edge=curl&source=gbs_api', categories=\"['Literary Criticism']\"),\n",
       " Row(Title='\"DFX Gold Methods (Finding Gold Jewelry with the White\\'s Spectrum DFX \"\"E\"\" Series Metal Detector)\"', Id='B000J42FC8', image=None, categories=None),\n",
       " Row(Title='\"Defending a Higher Law: Why We Must Resist Same-Sex \"\"Marriage\"\" and the Homosexual Movement\"', Id='187790533X', image=' Family and Property (TFP) is entering into the cultural fray with a compelling new book which clearly spells out why pro-famly America must react. The new TFP work is titled Defending a Higher Law: Why We Must Resist Same-Sex \"\"Marriage\"\" and the Homosexual Movement. Written by TFP\\'s Committee on American Issues', categories='Foundation for a Christian'),\n",
       " Row(Title='\"Easy Money: The High-Rolling, Superflying, Drug-Powered World of the Spanish and Black \"\"Mafias\"\"\"', Id='B000NBH45K', image='http://books.google.com/books/content?id=UCyNwQEACAAJ&printsec=frontcover&img=1&zoom=1&source=gbs_api', categories=\"['Drug abuse and crime']\"),\n",
       " Row(Title='\"El Castillo (Coleccion \"\"\"\"Mundo Maravilloso\"\"\"\"/First Discovery Series) (Spanish Edition)\"', Id='8434835355', image='http://books.google.com/books/content?id=s1jOcTeYb9YC&printsec=frontcover&img=1&zoom=1&source=gbs_api', categories=\"['Periodicals']\"),\n",
       " Row(Title='\"HP-UX 10.X System Administration \"\"How To\"\" Book\"', Id='0131258737', image='http://books.google.com/books/content?id=xutQAAAAMAAJ&printsec=frontcover&img=1&zoom=1&source=gbs_api', categories=\"['Hewlett-Packard computers']\"),\n",
       " Row(Title='\"Handbook of United States Coins 2004: The Official \"\"Blue Book\"\"\"', Id='1582382018', image=\"['Q. David Bowers']\", categories='http://books.google.com/books?id=DBrpKwAACAAJ&dq=Handbook+of+United+States+Coins+2004:+The+Official+%22Blue+Book%22&hl=&source=gbs_api'),\n",
       " Row(Title='\"Hawaiian Organic Growing Guide: Hawaii\\'s \"\"How-To-Grow-It\"\" Gardening Guidebook for the Tropics and Subtropics\"', Id='0963318705', image='http://books.google.com/books/content?id=sSpIAAAAYAAJ&printsec=frontcover&img=1&zoom=1&source=gbs_api', categories=\"['Gardening']\"),\n",
       " Row(Title='\"If I Die...\"\" (ST. Martin\\'s True Crime Library)\"', Id='B000OTSK6S', image=None, categories=None),\n",
       " Row(Title='\"Joseph Smith\\'s \"\"New Translation\"\" of the Bible\"', Id='0830900322', image=None, categories=None),\n",
       " Row(Title='\"Living with Nietzsche: What the Great \"\"Immoralist\"\" Has to Teach Us\"', Id='0195160142', image='http://books.google.com/books/content?id=1H48DwAAQBAJ&printsec=frontcover&img=1&zoom=1&edge=curl&source=gbs_api', categories=\"['Philosophy']\"),\n",
       " Row(Title='\"Marietta Holley: Life With \"\"Josiah Allen\\'s Wife\"\" (New York State Study)\"', Id='0815623240', image=None, categories=None),\n",
       " Row(Title='\"Marilyn Monroe as The Girl;: the candid picture-story of the making of \"\"The seven year itch.\"\" (Ballantine books)\"', Id='B0007F3SES', image=None, categories=None),\n",
       " Row(Title='\"Mood Swings: Show \"\"Em How You\\'re Feeling!\"', Id='0843175605', image='http://books.google.com/books/content?id=5SA8PwAACAAJ&printsec=frontcover&img=1&zoom=1&source=gbs_api', categories=\"['Juvenile Nonfiction']\"),\n",
       " Row(Title='\"Mother West Wind \"\"why\"\" stories\"', Id='B0008A2NC0', image='http://books.google.com/books/content?id=PA5YWOtJEq4C&printsec=frontcover&img=1&zoom=1&edge=curl&source=gbs_api', categories=\"['Adventure stories']\"),\n",
       " Row(Title='\"Mt. Rainier National Park - Centennial Edition PSM 50099 (Paper Wall Map 56\"\" x 40\"\")\"', Id='0966220927', image='http://books.google.com/books/content?id=yatZAwAAQBAJ&printsec=frontcover&img=1&zoom=1&edge=curl&source=gbs_api', categories=\"['Juvenile Fiction']\"),\n",
       " Row(Title='\"My Home Is over Jordan: Sequel to \"\"Sound the Jubilee\"\"\"', Id='0140388028', image='http://books.google.com/books/content?id=EtCAra-_sjsC&printsec=frontcover&img=1&zoom=1&source=gbs_api', categories=\"['Juvenile Fiction']\"),\n",
       " Row(Title='\"Nickel and Dime Your Way to Wealth \"\"Second Edition\"', Id='B000MU84BU', image='http://books.google.com/books/content?id=TdaVAAAACAAJ&printsec=frontcover&img=1&zoom=1&source=gbs_api', categories=\"['Finance, Personal']\"),\n",
       " Row(Title='\"Noah Adams on \"\"All Things Considered\"\": A Radio Journal\"', Id='0393030431', image='http://books.google.com/books/content?id=OXU4PQAACAAJ&printsec=frontcover&img=1&zoom=1&source=gbs_api', categories=\"['Biography & Autobiography']\"),\n",
       " Row(Title='\"On the \"\"Lee Side\"\" of My Navy Life\"', Id='0759665990', image='http://books.google.com/books/content?id=H4MFAAAACAAJ&printsec=frontcover&img=1&zoom=1&source=gbs_api', categories=\"['Biography & Autobiography']\"),\n",
       " Row(Title='\"Rabbi Kook\\'s Philosophy of repentance: A translation of \"\"Orot ha-teshuvah\"\" (Studies in Torah Judaism)\"', Id='B0006DXU94', image=None, categories=\"['Repentance']\"),\n",
       " Row(Title='\"Rabbi Nachman\\'s foundation: The \"\"Tikun hakelali\"\" of Rabbi Nachman of Breslov\"', Id='B0006D0JW0', image=None, categories=\"['Bratslav Hasidim']\"),\n",
       " Row(Title='\"Rocky Mountain Legacy Pack, Vols. 1-\"\"3\"', Id='0764284150', image=None, categories=None),\n",
       " Row(Title='\"SS Sturmbannfhrer Ernst August Krag: Trger des Ritterkreuzes mit Eichenlaub, Kommandeur SS-Sturmgeschtz-abteilung 2/SS-Panzer-Aufklrungsabteilung 2 \"\"Das Reich\"\"\"', Id='0764300490', image=None, categories=None),\n",
       " Row(Title='\"Selections from Henry David Thoreau: \"\"In the Wilderness Is the Preservation of the World.\"\"\"', Id='B000P5HZRG', image='http://books.google.com/books/content?id=StqS_OWhBTQC&printsec=frontcover&img=1&zoom=1&edge=curl&source=gbs_api', categories=\"['History']\"),\n",
       " Row(Title='\"Shackles: A \"\"Nameless Detective\"\" Mystery\"', Id='0312018185', image='http://books.google.com/books/content?id=08TGngEACAAJ&printsec=frontcover&img=1&zoom=1&source=gbs_api', categories=\"['Fiction']\"),\n",
       " Row(Title='\"T\\'ai Chi: The \"\"Supreme Ultimate\"\" Exercise for Health', Id='0804835934', image=\"Master the Chinese martial art of T'ai Chi with this accessible, illustrated guide. T'ai-chi (Tai Chi) is an effortless and rhythmical art that stresses slow breathing, balanced and relaxed postures, and absolute calmness of mind. It requires no special equipment or place to practice, and takes no more than ten minutes a day. This book, from renowned Tai Chi master, Cheng Man-Ch'ing, introduces T'ai-chi as a means to a healthier life, as a sport and as a method of self defense. It is a complete step-by-step manual for the beginner. With conscientious practice, readers will master the sequence of thirty-seven postures that will make up the T'ai-chi solo exercise. Students will learn how to progress from exercise to sport to self defense with maximum efficiency. The instructions are clear and easy to follow, and more than 275 photographs and 122 foot-weighting diagrams guarantee an understanding of the correct form. A history of T'ai-chi, including thumbnail sketches of famous masters, and the first English translation of the basic T'ai-chi document, known as the T'ai-chi Ch'uan Classics, are also included.\", categories='Tuttle Publishing'),\n",
       " Row(Title='\"THREE RIVERS COOKBOOK: \"\"THE GOOD TASTE OF PITTSBURGH\"\"\"', Id='B000JSVW6O', image=None, categories=None),\n",
       " Row(Title='\"Tales From The \"\"White Hart\"', Id='B000OV77JW', image=None, categories=None),\n",
       " Row(Title='\"Teachers telling tales out of school: Hilarious, irreverent tales that \"\"rock the boat\"\" of the American school establishment\"', Id='B0006QS1RW', image=None, categories=None),\n",
       " Row(Title='\"The \"\"Canary\"\" murder case (Gregg Press mystery fiction series)\"', Id='B0006DWYE6', image=None, categories=None),\n",
       " Row(Title='\"The Duties of Parents: \"\"Train Up A Child In The Way He Should Go\"\"\"', Id='B000O2F5N6', image=None, categories=\"['Christianity']\"),\n",
       " Row(Title='\"The History of a Brigade of South Carolinians: Known First as \"\"Gregg\\'s\"\" and Subsequently as \"\"McGowan\\'s Brigade\"\"\"', Id='B000QE542Y', image='http://books.google.com/books/content?id=-U4IAAAAQAAJ&printsec=frontcover&img=1&zoom=1&edge=curl&source=gbs_api', categories=\"['South Carolina']\"),\n",
       " Row(Title='\"The Hunt for \"\"Tokyo Rose\"\"\"', Id='0819174564', image='http://books.google.com/books/content?id=TezYAgAAQBAJ&printsec=frontcover&img=1&zoom=1&edge=curl&source=gbs_api', categories=\"['History']\"),\n",
       " Row(Title='\"The Jeeves Collection: \"\"Stiff Upper Lip', Id='1851522360', image=' \"\"Carry on', categories=None),\n",
       " Row(Title='\"The Nazi \"\"88\"\" Made Believers', Id='B0007EFQHG', image=' he describes this lesser known part of the US military effort. Illustrated throughout with his own photographs.\"', categories='2014-08-15'),\n",
       " Row(Title='\"The Performance of Emotion Among Paxtun Women: \"\"The Misfortunes Which Have Befallen Me\"\" (Modern Middle East Series)\"', Id='0292727569', image=' but rather culturally taught and performed', categories=\"['Benedicte Grima']\"),\n",
       " Row(Title='\"The S.o.B. \"\"take me to the beach\"\" Sand Castle Book\"', Id='0970599900', image='http://books.google.com/books/content?id=TIqgHr7boU0C&printsec=frontcover&img=1&zoom=1&edge=curl&source=gbs_api', categories=\"['Business']\"),\n",
       " Row(Title='\"The Way Things Never Were: The Truth About the \"\"Good Old Days\"\"\"', Id='0689814127', image=None, categories=None),\n",
       " Row(Title='\"The bow, its history, manufacture & use (\"\"The Strad\"\" library)\"', Id='B00085V2AY', image='http://books.google.com/books/content?id=zJw2AQAAMAAJ&printsec=frontcover&img=1&zoom=1&edge=curl&source=gbs_api', categories=\"['Stringed instrument bows']\"),\n",
       " Row(Title='\"The deluge: An historical novel of Poland, Sweden and Russia : a sequel to \"\"With fire and sword\"\"\"', Id='B0008BCYWS', image='http://books.google.com/books/content?id=1MqnCzsUBFoC&printsec=frontcover&img=1&zoom=1&edge=curl&source=gbs_api', categories=\"['Poland']\"),\n",
       " Row(Title='\"The descendants of Capt. Thomas Carter of \"\"Barford\"\"', Id='B0006WB2I6', image=': With genealogical notes of many of the allied families\"', categories=None),\n",
       " Row(Title='\"The descendants of Capt. Thomas Carter of \"\"Barford\"\"', Id='B0006WB2I6', image=None, categories='1912'),\n",
       " Row(Title='\"The saga of \"\"Cimba.\"\"\"', Id='B0006CB9FM', image='http://books.google.com/books/content?id=mILjDAAAQBAJ&printsec=frontcover&img=1&zoom=1&edge=curl&source=gbs_api', categories=\"['Biography & Autobiography']\"),\n",
       " Row(Title='\"The story of \"\"Mormonism\"\"\"', Id='B00086LJL0', image=None, categories=None),\n",
       " Row(Title='\"The warped case for Jew-hatred: Martin Jay \"\"explains\"\" how Jews cause antisemitism.: An article from: Midstream\"', Id='B000826OGY', image='http://books.google.com/books/content?id=yBvt4Fwc5XoC&printsec=frontcover&img=1&zoom=1&edge=curl&source=gbs_api', categories=\"['Social Science']\"),\n",
       " Row(Title='\"Trading Rules I and II (\"\"Financial Times\"\" Investment Insight S.)\"', Id='0273622188', image=None, categories=None),\n",
       " Row(Title='\"Twinkle, twinkle, \"\"Killer\"\" Kane!\"', Id='B0006BNU1Y', image='http://books.google.com/books/content?id=zWiyBgAAQBAJ&printsec=frontcover&img=1&zoom=1&edge=curl&source=gbs_api', categories=\"['Fiction']\"),\n",
       " Row(Title='\"Understanding \"\"Our Father\"\": Biblical Reflections on the Lord\\'s Prayer\"', Id='1931018154', image='http://books.google.com/books/content?id=IZOvNr8XfFoC&printsec=frontcover&img=1&zoom=1&edge=curl&source=gbs_api', categories='\"[\"\"Lord\\'s prayer\"\"]\"'),\n",
       " Row(Title='\"Violin making, (\"\"The Strad\"\" library)\"', Id='B00086M1DA', image='http://books.google.com/books/content?id=I_WdDAEACAAJ&printsec=frontcover&img=1&zoom=1&source=gbs_api', categories=None),\n",
       " Row(Title='\"What kinda cactus izzat?: A \"\"who s who\"\" of strange plants of the southwest American desert\"', Id='B000MPSGY0', image='http://books.google.com/books/content?id=dwj8CAAAQBAJ&printsec=frontcover&img=1&zoom=1&edge=curl&source=gbs_api', categories=\"['Science']\"),\n",
       " Row(Title='\"Where will we be when we get where we\\'re going?: \"\"Thursdays With Mayberry\"\"\"', Id='1418442119', image='http://books.google.com/books/content?id=7jNGmQEACAAJ&printsec=frontcover&img=1&zoom=1&source=gbs_api', categories=\"['Biography & Autobiography']\"),\n",
       " Row(Title='\"Wind in the Rigging (An Adventurous Voyage of Tod Moran on the Tramp Steamer \"\"Sumatra\"\" New York to Africa)\"', Id='B000KOZAME', image=\"['Howard Pease']\", categories='http://books.google.com/books?id=SxegGQAACAAJ&dq=Wind+in+the+Rigging+(An+Adventurous+Voyage+of+Tod+Moran+on+the+Tramp+Steamer+%22Sumatra%22+New+York+to+Africa)&hl=&source=gbs_api'),\n",
       " Row(Title='$25 and Under 1998: Your Guide to the Best Inexpensive Restaurants in New York', Id='0062734024', image=' Asimov fills a void', categories=' pizza and delivery food; eating cheaply in the fanciest restaurants; and the best food in each neighorhood. From the ubiquitous to the uncommon'),\n",
       " Row(Title=\"'Gator\", Id='B000QKUVEO', image='http://books.google.com/books/content?id=2E4dR-iA8OMC&printsec=frontcover&img=1&zoom=1&edge=curl&source=gbs_api', categories=\"['Fiction']\"),\n",
       " Row(Title=\"'N Sync With Justin\", Id='0671032763', image='http://books.google.com/books/content?id=f4zBp9pPouYC&printsec=frontcover&img=1&zoom=1&source=gbs_api', categories=\"['Juvenile Nonfiction']\"),\n",
       " Row(Title=\"'Twelve to One' V Fighter Command Aces of the Pacific (Aircraft of the Aces)\", Id='1841767840', image='http://books.google.com/books/content?id=UywVDAAAQBAJ&printsec=frontcover&img=1&zoom=1&edge=curl&source=gbs_api', categories=\"['History']\"),\n",
       " Row(Title='*OP Clanbook: Assamite (Revised Ed) (Vampire: The Masquerade Clanbooks)', Id='1565042565', image=\"['Clayton Oliver']\", categories='http://books.google.com/books?id=OtQHAAAACAAJ&dq=*OP+Clanbook:+Assamite+(Revised+Ed)+(Vampire:+The+Masquerade+Clanbooks)&hl=&source=gbs_api'),\n",
       " Row(Title='*OP Exalted Castebook Dawn', Id='1588466531', image='http://books.google.com/books/content?id=XIOwPAAACAAJ&printsec=frontcover&img=1&zoom=1&source=gbs_api', categories=\"['Games']\"),\n",
       " Row(Title='*OP Hunter Book: Martyr', Id='1565047451', image='http://books.google.com/books/content?id=mV9oAAAAcAAJ&printsec=frontcover&img=1&zoom=1&edge=curl&source=gbs_api', categories=\"['Christian martyrs']\"),\n",
       " Row(Title=\"*OP MET: Sabbat Guide (Mind's Eye Theatre)\", Id='156504732X', image='http://books.google.com/books/content?id=pvYIAAAACAAJ&printsec=frontcover&img=1&zoom=1&source=gbs_api', categories=\"['Fiction']\"),\n",
       " Row(Title='... Thomas Hart Benton, (American statesman, ed. by J. T. Morse)', Id='B00069YC0O', image='http://books.google.com/books/content?id=_RJDAQAAMAAJ&printsec=frontcover&img=1&zoom=1&edge=curl&source=gbs_api', categories=None),\n",
       " Row(Title='...And From the Ashes', Id='1413772579', image='http://books.google.com/books/content?id=GOQYEAAAQBAJ&printsec=frontcover&img=1&zoom=1&edge=curl&source=gbs_api', categories=\"['Biography & Autobiography']\"),\n",
       " Row(Title='...And Then There Were Butterflies', Id='0975526804', image='http://books.google.com/books/content?id=sAxyswEACAAJ&printsec=frontcover&img=1&zoom=1&source=gbs_api', categories=None),\n",
       " Row(Title='...If You Grew up with George Washington', Id='B000KWNDM0', image='http://books.google.com/books/content?id=jrC7kZ-6FKMC&printsec=frontcover&img=1&zoom=1&source=gbs_api', categories=\"['United States']\"),\n",
       " Row(Title='01442 DEVELOPING SKILLS IN ALGEBRA ONE, BOOK B', Id='0866512225', image='http://books.google.com/books/content?id=uPIuAQAAIAAJ&printsec=frontcover&img=1&zoom=1&source=gbs_api', categories=\"['American literature']\"),\n",
       " Row(Title='1 & 2 Peter (MacArthur Bible Studies)', Id='141850890X', image='http://books.google.com/books/content?id=fqi_nclcw8gC&printsec=frontcover&img=1&zoom=1&edge=curl&source=gbs_api', categories=None),\n",
       " Row(Title='1 And 2 Corinthians (Geneva Series of Commentaries)', Id='0851511856', image=\"['Charles Hodge']\", categories='https://play.google.com/store/books/details?id=HN3jCwAAQBAJ&source=gbs_api'),\n",
       " Row(Title='1 Corinthians (The NIV Application Commentary)', Id='0310484901', image='http://books.google.com/books/content?id=GyWHbFph1SYC&printsec=frontcover&img=1&zoom=1&edge=curl&source=gbs_api', categories=\"['Religion']\"),\n",
       " Row(Title='1 Corinthians Pb (Tyndale New Testament Commentaries)', Id='0851118763', image='http://books.google.com/books/content?id=EuF9YI_GIQUC&printsec=frontcover&img=1&zoom=1&edge=curl&source=gbs_api', categories=\"['Bible']\"),\n",
       " Row(Title='1 Peter (LifeChange)', Id='0891090525', image='http://books.google.com/books/content?id=ZjJpDwAAQBAJ&printsec=frontcover&img=1&zoom=1&edge=curl&source=gbs_api', categories=\"['Religion']\"),\n",
       " Row(Title='1 Ragged Ridge Road', Id='B000GR96BG', image='http://books.google.com/books/content?id=3KetZlqXLRMC&printsec=frontcover&img=1&zoom=1&source=gbs_api', categories=\"['Fiction']\"),\n",
       " Row(Title=\"1,000 Points of Light: The Public Remains in the Dark (Oswald's Closest Friend: The George De Mohrenschildt Story, Volume 1)\", Id='189250104X', image='http://books.google.com/books/content?id=HzVYAAAAMAAJ&printsec=frontcover&img=1&zoom=1&source=gbs_api', categories=\"['American literature']\"),\n",
       " Row(Title='1,001 Reasons to Love Horses', Id='1584794003', image='http://books.google.com/books/content?id=4oq8AQAACAAJ&printsec=frontcover&img=1&zoom=1&source=gbs_api', categories=\"['Nature']\"),\n",
       " Row(Title='1,999 Facts About Blacks: A Sourcebook of African-American Achievement', Id='1568330812', image='http://books.google.com/books/content?id=P92ZWh93vvoC&printsec=frontcover&img=1&zoom=1&edge=curl&source=gbs_api', categories=\"['History']\"),\n",
       " Row(Title='10 Commanandments (Lifeguide Bible Studies)', Id='0830810846', image='http://books.google.com/books/content?id=C5Y00eRpE2kC&printsec=frontcover&img=1&zoom=1&edge=curl&source=gbs_api', categories=\"['Religion']\"),\n",
       " Row(Title='10 Spiritual Steps to a Magical Life', Id='0738703117', image=\"['Adrian Calabrese']\", categories='http://books.google.nl/books?id=vxSBf6iNIikC&dq=10+Spiritual+Steps+to+a+Magical+Life&hl=&source=gbs_api'),\n",
       " Row(Title='10 Sure Signs a Movie Character is Doomed', Id='078688830X', image=\"['Richard Roeper']\", categories='http://books.google.nl/books?id=TjaPPwAACAAJ&dq=10+Sure+Signs+a+Movie+Character+is+Doomed&hl=&source=gbs_api'),\n",
       " Row(Title='10. St. Athanasius: The Life of St. Antony (Ancient Christian Writers)', Id='0809102501', image='http://books.google.com/books/content?id=xR2fECyna2AC&printsec=frontcover&img=1&zoom=1&edge=curl&source=gbs_api', categories=\"['Biography & Autobiography']\"),\n",
       " Row(Title='100 Amazing Make-It-Yourself Science Fair Projects', Id='B000KE5T20', image=None, categories=None),\n",
       " Row(Title='100 Astounding Little Alien Stories', Id='0760701423', image='http://books.google.com/books/content?id=9NlnC0E5NkoC&printsec=frontcover&img=1&zoom=1&source=gbs_api', categories=\"['Extraterrestial beings']\"),\n",
       " Row(Title='100 Flowers and How They Got Their Names', Id='1565121384', image='http://books.google.com/books/content?id=tP02AgAAQBAJ&printsec=frontcover&img=1&zoom=1&edge=curl&source=gbs_api', categories=\"['Gardening']\")]"
      ]
     },
     "execution_count": 21,
     "metadata": {},
     "output_type": "execute_result"
    }
   ],
   "source": [
    "books.head(100)"
   ]
  },
  {
   "cell_type": "code",
   "execution_count": null,
   "id": "200e7df8",
   "metadata": {},
   "outputs": [],
   "source": []
  }
 ],
 "metadata": {
  "kernelspec": {
   "display_name": "ml-project-env",
   "language": "python",
   "name": "python3"
  },
  "language_info": {
   "codemirror_mode": {
    "name": "ipython",
    "version": 3
   },
   "file_extension": ".py",
   "mimetype": "text/x-python",
   "name": "python",
   "nbconvert_exporter": "python",
   "pygments_lexer": "ipython3",
   "version": "3.10.12"
  }
 },
 "nbformat": 4,
 "nbformat_minor": 5
}
