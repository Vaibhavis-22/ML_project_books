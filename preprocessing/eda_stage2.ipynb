{
 "cells": [
  {
   "cell_type": "code",
   "execution_count": 1,
   "id": "c3593167",
   "metadata": {},
   "outputs": [],
   "source": [
    "import pyspark"
   ]
  },
  {
   "cell_type": "code",
   "execution_count": 2,
   "id": "0d451c19",
   "metadata": {},
   "outputs": [],
   "source": [
    "from pyspark.sql import SparkSession"
   ]
  },
  {
   "cell_type": "code",
   "execution_count": 3,
   "id": "d5590154",
   "metadata": {},
   "outputs": [],
   "source": [
    "#loading the required sql functions for the further processing\n",
    "from pyspark.sql import functions\n",
    "from pyspark.sql.functions import col, trim, lower, regexp_replace"
   ]
  },
  {
   "cell_type": "code",
   "execution_count": 4,
   "id": "614cd002",
   "metadata": {},
   "outputs": [
    {
     "name": "stderr",
     "output_type": "stream",
     "text": [
      "25/06/28 18:41:24 WARN Utils: Your hostname, vaibhavi-HP-Laptop-15-fd0xxx resolves to a loopback address: 127.0.1.1; using 192.168.0.107 instead (on interface wlo1)\n",
      "25/06/28 18:41:24 WARN Utils: Set SPARK_LOCAL_IP if you need to bind to another address\n",
      "Setting default log level to \"WARN\".\n",
      "To adjust logging level use sc.setLogLevel(newLevel). For SparkR, use setLogLevel(newLevel).\n",
      "25/06/28 18:41:29 WARN NativeCodeLoader: Unable to load native-hadoop library for your platform... using builtin-java classes where applicable\n"
     ]
    }
   ],
   "source": [
    "spark = SparkSession.builder \\\n",
    "    .appName(\"BookRecommendEDA\") \\\n",
    "    .getOrCreate()"
   ]
  },
  {
   "cell_type": "code",
   "execution_count": 7,
   "id": "57b33869",
   "metadata": {},
   "outputs": [
    {
     "name": "stderr",
     "output_type": "stream",
     "text": [
      "[Stage 7:============================================>            (17 + 5) / 22]\r"
     ]
    },
    {
     "name": "stdout",
     "output_type": "stream",
     "text": [
      "root\n",
      " |-- Id: string (nullable = true)\n",
      " |-- Title: string (nullable = true)\n",
      " |-- Price: string (nullable = true)\n",
      " |-- User_id: string (nullable = true)\n",
      " |-- profileName: string (nullable = true)\n",
      " |-- review/helpfulness: string (nullable = true)\n",
      " |-- review/score: string (nullable = true)\n",
      " |-- review/time: string (nullable = true)\n",
      " |-- review/summary: string (nullable = true)\n",
      " |-- review/text: string (nullable = true)\n",
      "\n",
      "+----------+--------------------+-----+--------------+--------------------+------------------+------------+-----------+--------------------+--------------------+\n",
      "|        Id|               Title|Price|       User_id|         profileName|review/helpfulness|review/score|review/time|      review/summary|         review/text|\n",
      "+----------+--------------------+-----+--------------+--------------------+------------------+------------+-----------+--------------------+--------------------+\n",
      "|1882931173|Its Only Art If I...| NULL| AVCGYZL8FQQTD|\"Jim of Oz \"\"jim-...|               7/7|         4.0|  940636800|Nice collection o...|This is only for ...|\n",
      "|0826414346|Dr. Seuss: Americ...| NULL|A30TK6U7DNS82R|       Kevin Killian|             10/10|         5.0| 1095724800|   Really Enjoyed It|I don't care much...|\n",
      "|0826414346|Dr. Seuss: Americ...| NULL|A3UH4UZ4RSVO82|        John Granger|             10/11|         5.0| 1078790400|Essential for eve...|\"If people become...|\n",
      "|0826414346|Dr. Seuss: Americ...| NULL|A2MVUWT453QH61|\"Roy E. Perry \"\"a...|               7/7|         4.0| 1090713600|Phlip Nel gives s...|Theodore Seuss Ge...|\n",
      "|0826414346|Dr. Seuss: Americ...| NULL|A22X4XUPKF66MR|\"D. H. Richards \"...|               3/3|         4.0| 1107993600|Good academic ove...|\"Philip Nel - Dr....|\n",
      "+----------+--------------------+-----+--------------+--------------------+------------------+------------+-----------+--------------------+--------------------+\n",
      "only showing top 5 rows\n",
      "\n"
     ]
    },
    {
     "name": "stderr",
     "output_type": "stream",
     "text": [
      "                                                                                \r"
     ]
    }
   ],
   "source": [
    "df_reviews = spark.read.csv(\"/home/vaibhavi/spark-ml-venv/ml_project/data/Books_rating.csv\", header=True, inferSchema=True)\n",
    "df_reviews.printSchema()\n",
    "df_reviews.show(5)"
   ]
  },
  {
   "cell_type": "code",
   "execution_count": 8,
   "id": "e484e10a",
   "metadata": {},
   "outputs": [
    {
     "name": "stdout",
     "output_type": "stream",
     "text": [
      "root\n",
      " |-- Title: string (nullable = true)\n",
      " |-- description: string (nullable = true)\n",
      " |-- authors: string (nullable = true)\n",
      " |-- image: string (nullable = true)\n",
      " |-- previewLink: string (nullable = true)\n",
      " |-- publisher: string (nullable = true)\n",
      " |-- publishedDate: string (nullable = true)\n",
      " |-- infoLink: string (nullable = true)\n",
      " |-- categories: string (nullable = true)\n",
      " |-- ratingsCount: string (nullable = true)\n",
      "\n",
      "+--------------------+--------------------+--------------------+--------------------+--------------------+--------------------+--------------+--------------------+--------------------+------------+\n",
      "|               Title|         description|             authors|               image|         previewLink|           publisher| publishedDate|            infoLink|          categories|ratingsCount|\n",
      "+--------------------+--------------------+--------------------+--------------------+--------------------+--------------------+--------------+--------------------+--------------------+------------+\n",
      "|Its Only Art If I...|                NULL|    ['Julie Strain']|http://books.goog...|http://books.goog...|                NULL|          1996|http://books.goog...|['Comics & Graphi...|        NULL|\n",
      "|Dr. Seuss: Americ...|\"Philip Nel takes...| like that of Lew...| has changed lang...| giving us new wo...| inspiring artist...|['Philip Nel']|http://books.goog...|http://books.goog...|   A&C Black|\n",
      "|Wonderful Worship...|This resource inc...|    ['David R. Ray']|http://books.goog...|http://books.goog...|                NULL|          2000|http://books.goog...|        ['Religion']|        NULL|\n",
      "|Whispers of the W...|Julia Thomas find...| ['Veronica Haddon']|http://books.goog...|http://books.goog...|           iUniverse|       2005-02|http://books.goog...|         ['Fiction']|        NULL|\n",
      "|Nation Dance: Rel...|                NULL|     ['Edward Long']|                NULL|http://books.goog...|                NULL|    2003-03-01|http://books.goog...|                NULL|        NULL|\n",
      "+--------------------+--------------------+--------------------+--------------------+--------------------+--------------------+--------------+--------------------+--------------------+------------+\n",
      "only showing top 5 rows\n",
      "\n"
     ]
    }
   ],
   "source": [
    "df_books = spark.read.csv(\"/home/vaibhavi/spark-ml-venv/ml_project/data/books_data.csv\", header=True, inferSchema=True)\n",
    "df_books.printSchema()\n",
    "df_books.show(5)"
   ]
  },
  {
   "cell_type": "markdown",
   "id": "d22c0506",
   "metadata": {},
   "source": [
    "actual Schema : Title,description,authors,image,previewLink,publisher,publishedDate,infoLink,categories,ratingsCount"
   ]
  },
  {
   "cell_type": "markdown",
   "id": "30c1b8a5",
   "metadata": {},
   "source": [
    "#required columns from both the tables:\n",
    "- title, userId, review_score, tb2 - title, authors ,publisher, categories,description, ratingsCount"
   ]
  },
  {
   "cell_type": "code",
   "execution_count": null,
   "id": "dda28f0f",
   "metadata": {},
   "outputs": [],
   "source": [
    "#selecting required columns from books dataframe\n",
    "df_required1 = df_books.select(\"Title\",\"description\",\"authors\",\"publisher\", \"categories\",\"ratingsCount\")"
   ]
  },
  {
   "cell_type": "code",
   "execution_count": null,
   "id": "52821b6a",
   "metadata": {},
   "outputs": [],
   "source": [
    "#selecting required columns from reviews dataframe\n",
    "df_required2 = df_reviews.select(\"Title\",\"User_id\",\"review/score\")"
   ]
  },
  {
   "cell_type": "code",
   "execution_count": 13,
   "id": "d75e3d86",
   "metadata": {},
   "outputs": [
    {
     "name": "stdout",
     "output_type": "stream",
     "text": [
      "root\n",
      " |-- Title: string (nullable = true)\n",
      " |-- description: string (nullable = true)\n",
      " |-- authors: string (nullable = true)\n",
      " |-- publisher: string (nullable = true)\n",
      " |-- categories: string (nullable = true)\n",
      " |-- ratingsCount: string (nullable = true)\n",
      "\n"
     ]
    }
   ],
   "source": [
    "df_required1.printSchema()"
   ]
  },
  {
   "cell_type": "code",
   "execution_count": 14,
   "id": "2d4057b4",
   "metadata": {},
   "outputs": [
    {
     "name": "stdout",
     "output_type": "stream",
     "text": [
      "root\n",
      " |-- Title: string (nullable = true)\n",
      " |-- User_id: string (nullable = true)\n",
      " |-- review/score: string (nullable = true)\n",
      "\n"
     ]
    }
   ],
   "source": [
    "df_required2.printSchema()"
   ]
  },
  {
   "cell_type": "code",
   "execution_count": 22,
   "id": "adf79b4b",
   "metadata": {},
   "outputs": [
    {
     "name": "stderr",
     "output_type": "stream",
     "text": [
      "[Stage 27:=====================================================>  (21 + 1) / 22]\r"
     ]
    },
    {
     "name": "stdout",
     "output_type": "stream",
     "text": [
      "+--------------------+-----+\n",
      "|               Title|count|\n",
      "+--------------------+-----+\n",
      "|  tales of chinatown|    1|\n",
      "|\"Buffy contre les...|    1|\n",
      "|The Dum Dum Bulle...|    1|\n",
      "|The Poll-ette Hos...|    1|\n",
      "|Adviser's guide t...|    1|\n",
      "|Fast Forward Lead...|    1|\n",
      "|A Groovy Guide to...|    1|\n",
      "|Iso 9001:2000 Ach...|    1|\n",
      "|The Gesalt Therap...|    1|\n",
      "|Boys' life of Chr...|    1|\n",
      "|Maine Lingo: Boil...|    1|\n",
      "|Sir Marrok;: A ta...|    1|\n",
      "|  Tus Zonas Sagradas|    1|\n",
      "|All Fall Down Pb ...|    1|\n",
      "| English in Action 1|    1|\n",
      "|What Mrs. McGilli...|    1|\n",
      "|A Voice of Thunde...|    1|\n",
      "|           Bluebeard|    1|\n",
      "|Variational metho...|    1|\n",
      "|Sodium Calories &...|    1|\n",
      "+--------------------+-----+\n",
      "only showing top 20 rows\n",
      "\n",
      "None\n"
     ]
    },
    {
     "name": "stderr",
     "output_type": "stream",
     "text": [
      "                                                                                \r"
     ]
    }
   ],
   "source": [
    "#df_final = df_required1.join(df_required2, df_required1.Title == df_required2.Title,\"cross\")\n",
    "\n",
    "#reviews per title\n",
    "count = df_required2.groupBy(\"Title\").count().orderBy(\"count\").show()\n",
    "print(count)"
   ]
  },
  {
   "cell_type": "code",
   "execution_count": 21,
   "id": "826a2048",
   "metadata": {},
   "outputs": [
    {
     "name": "stderr",
     "output_type": "stream",
     "text": [
      "[Stage 21:=============================================>          (18 + 4) / 22]\r"
     ]
    },
    {
     "name": "stdout",
     "output_type": "stream",
     "text": [
      "212400\n"
     ]
    },
    {
     "name": "stderr",
     "output_type": "stream",
     "text": [
      "                                                                                \r"
     ]
    }
   ],
   "source": [
    "#distinct titles:\n",
    "distinct_tiles = df_required2.select(\"Title\").distinct().count()\n",
    "print(distinct_tiles)"
   ]
  },
  {
   "cell_type": "code",
   "execution_count": 23,
   "id": "78df5cfa",
   "metadata": {},
   "outputs": [
    {
     "name": "stdout",
     "output_type": "stream",
     "text": [
      "212400\n"
     ]
    }
   ],
   "source": [
    "distinct_tiles_2 = df_required1.select(\"Title\").distinct().count()\n",
    "print(distinct_tiles_2)"
   ]
  },
  {
   "cell_type": "code",
   "execution_count": 25,
   "id": "9af35247",
   "metadata": {},
   "outputs": [
    {
     "name": "stderr",
     "output_type": "stream",
     "text": [
      "[Stage 39:========================================>               (16 + 6) / 22]\r"
     ]
    },
    {
     "name": "stdout",
     "output_type": "stream",
     "text": [
      "3000000\n"
     ]
    },
    {
     "name": "stderr",
     "output_type": "stream",
     "text": [
      "                                                                                \r"
     ]
    }
   ],
   "source": [
    "total_count = df_required2.count()\n",
    "print(total_count)"
   ]
  },
  {
   "cell_type": "code",
   "execution_count": 27,
   "id": "d1b45e66",
   "metadata": {},
   "outputs": [
    {
     "name": "stdout",
     "output_type": "stream",
     "text": [
      "212404\n"
     ]
    }
   ],
   "source": [
    "total_count_reviews = df_required1.count()\n",
    "print(total_count_reviews)"
   ]
  },
  {
   "cell_type": "code",
   "execution_count": null,
   "id": "d6243f34",
   "metadata": {},
   "outputs": [],
   "source": []
  }
 ],
 "metadata": {
  "kernelspec": {
   "display_name": "ml-project-env",
   "language": "python",
   "name": "python3"
  },
  "language_info": {
   "codemirror_mode": {
    "name": "ipython",
    "version": 3
   },
   "file_extension": ".py",
   "mimetype": "text/x-python",
   "name": "python",
   "nbconvert_exporter": "python",
   "pygments_lexer": "ipython3",
   "version": "3.10.12"
  }
 },
 "nbformat": 4,
 "nbformat_minor": 5
}
